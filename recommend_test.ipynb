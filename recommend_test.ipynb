{
 "cells": [
  {
   "cell_type": "code",
   "execution_count": null,
   "metadata": {},
   "outputs": [],
   "source": [
    "import pandas as pd\n",
    "import matplotlib.pyplot as plt\n",
    "\n",
    "from tensorflow.keras.models import Sequential\n",
    "from tensorflow.keras.layers import Dense\n",
    "\n",
    "from sklearn.preprocessing import MinMaxScaler\n",
    "from sklearn.model_selection import train_test_split"
   ]
  },
  {
   "cell_type": "code",
   "execution_count": null,
   "metadata": {},
   "outputs": [],
   "source": [
    "# raw_db = pd.read_csv('dataset/titan.csv')\n",
    "# raw_db = pd.read_csv('dataset/hunter.csv')\n",
    "# raw_db = pd.read_csv('dataset/warlock.csv')\n",
    "raw_db = pd.read_csv('dataset/common.csv')"
   ]
  },
  {
   "cell_type": "code",
   "execution_count": null,
   "metadata": {},
   "outputs": [],
   "source": [
    "# raw_x = raw_db[['Mobility', 'Resilience', 'Recovery']]\n",
    "raw_x = raw_db[['Discipline', 'Intellect', 'Strength']]\n",
    "y = raw_db[['pve', 'pvp']]"
   ]
  },
  {
   "cell_type": "code",
   "execution_count": null,
   "metadata": {},
   "outputs": [],
   "source": [
    "scaler = MinMaxScaler()\n",
    "scaled_x = scaler.fit_transform(raw_x)\n",
    "scaled_x = pd.DataFrame(scaled_x, columns=raw_x.columns)"
   ]
  },
  {
   "cell_type": "code",
   "execution_count": null,
   "metadata": {},
   "outputs": [],
   "source": [
    "# x_train, x_test, y_train, y_test = train_test_split(scaled_x, y, test_size=0.1)\n",
    "x_train, y_train = scaled_x, y"
   ]
  },
  {
   "cell_type": "code",
   "execution_count": null,
   "metadata": {},
   "outputs": [],
   "source": [
    "model = Sequential()\n",
    "model.add(Dense(200, activation=\"relu\", input_dim=3))\n",
    "model.add(Dense(500, activation=\"relu\"))\n",
    "model.add(Dense(300, activation=\"relu\"))\n",
    "model.add(Dense(2, activation=\"sigmoid\"))"
   ]
  },
  {
   "cell_type": "code",
   "execution_count": null,
   "metadata": {},
   "outputs": [],
   "source": [
    "model.compile(optimizer=\"adam\", loss=\"mse\", metrics=[\"acc\"])"
   ]
  },
  {
   "cell_type": "code",
   "execution_count": null,
   "metadata": {},
   "outputs": [],
   "source": [
    "# hist = model.fit(x_train, y_train, batch_size=16, epochs=32, verbose=1, validation_data=(x_test, y_test))\n",
    "hist = model.fit(x_train, y_train, batch_size=16, epochs=32, verbose=1)\n",
    "# model.save(\"dataset/titan.h5\")\n",
    "# model.save(\"dataset/hunter.h5\")\n",
    "# model.save(\"dataset/warlock.h5\")\n",
    "model.save(\"dataset/common.h5\")"
   ]
  },
  {
   "cell_type": "code",
   "execution_count": null,
   "metadata": {},
   "outputs": [],
   "source": [
    "plt.plot(hist.history[\"loss\"], label=\"train_loss\")\n",
    "plt.plot(hist.history[\"acc\"], label=\"train_acc\")\n",
    "plt.plot(hist.history[\"val_loss\"], label=\"val_loss\")\n",
    "plt.plot(hist.history[\"val_acc\"], label=\"val_acc\")\n",
    "\n",
    "plt.legend()\n",
    "\n",
    "plt.show()"
   ]
  },
  {
   "cell_type": "code",
   "execution_count": null,
   "metadata": {},
   "outputs": [],
   "source": [
    "loss, acc = model.evaluate(x_test, y_test, verbose=1)"
   ]
  },
  {
   "cell_type": "code",
   "execution_count": null,
   "metadata": {},
   "outputs": [],
   "source": [
    "y_pred = model.predict(x_test)\n",
    "y_pred = pd.DataFrame(y_pred, index=y_test.index, columns=y_test.columns)"
   ]
  },
  {
   "cell_type": "code",
   "execution_count": null,
   "metadata": {},
   "outputs": [],
   "source": [
    "fig, (ax1, ax2) = plt.subplots(1, 2, sharey=True)\n",
    "\n",
    "fig.set_size_inches((12, 4))\n",
    "\n",
    "ax1.plot([0, 1], [0, 1], \"g\")\n",
    "ax1.plot(y_pred['pve'], y_test['pve'], \"b.\")\n",
    "ax2.plot([0, 1], [0, 1], \"g\")\n",
    "ax2.plot(y_pred['pvp'], y_test['pvp'], \"r.\")\n",
    "\n",
    "ax1.set_title(\"pve\")\n",
    "ax1.set_xlabel('predict')\n",
    "ax1.set_ylabel('actual')\n",
    "ax1.grid()\n",
    "\n",
    "ax2.set_title(\"pvp\")\n",
    "ax2.set_xlabel('predict')\n",
    "ax2.set_ylabel('actual')\n",
    "ax2.grid()\n",
    "\n",
    "plt.show()"
   ]
  }
 ],
 "metadata": {
  "kernelspec": {
   "display_name": "django-env",
   "language": "python",
   "name": "python3"
  },
  "language_info": {
   "codemirror_mode": {
    "name": "ipython",
    "version": 3
   },
   "file_extension": ".py",
   "mimetype": "text/x-python",
   "name": "python",
   "nbconvert_exporter": "python",
   "pygments_lexer": "ipython3",
   "version": "3.10.9"
  },
  "orig_nbformat": 4
 },
 "nbformat": 4,
 "nbformat_minor": 2
}
