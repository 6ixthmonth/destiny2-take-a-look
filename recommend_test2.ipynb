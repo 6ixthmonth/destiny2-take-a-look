{
 "cells": [
  {
   "cell_type": "code",
   "execution_count": null,
   "metadata": {},
   "outputs": [],
   "source": [
    "import pandas as pd\n",
    "from tensorflow.keras.models import load_model"
   ]
  },
  {
   "cell_type": "code",
   "execution_count": null,
   "metadata": {},
   "outputs": [],
   "source": [
    "# titan_model = load_model(\"dataset/titan.h5\")\n",
    "# hunter_model = load_model(\"dataset/hunter.h5\")\n",
    "# warlock_model = load_model(\"dataset/warlock.h5\")\n",
    "common_model = load_model(\"dataset/common.h5\")"
   ]
  },
  {
   "cell_type": "code",
   "execution_count": null,
   "metadata": {},
   "outputs": [],
   "source": [
    "# mobility = 2\n",
    "# resilience = 20\n",
    "# recovery = 12\n",
    "discipline = 20\n",
    "intellect = 12\n",
    "strength = 2"
   ]
  },
  {
   "cell_type": "code",
   "execution_count": null,
   "metadata": {},
   "outputs": [],
   "source": [
    "# x_test = pd.DataFrame([[mobility, resilience, recovery]])\n",
    "x_test = pd.DataFrame([[discipline, intellect, strength]])\n",
    "x_test = (x_test - 2) / 28\n",
    "x_test"
   ]
  },
  {
   "cell_type": "code",
   "execution_count": null,
   "metadata": {},
   "outputs": [],
   "source": [
    "# y_pred = titan_model.predict(x_test)\n",
    "# y_pred = hunter_model.predict(x_test)\n",
    "# y_pred = warlock_model.predict(x_test)\n",
    "y_pred = common_model.predict(x_test)\n",
    "y_pred"
   ]
  }
 ],
 "metadata": {
  "kernelspec": {
   "display_name": "django-env",
   "language": "python",
   "name": "python3"
  },
  "language_info": {
   "codemirror_mode": {
    "name": "ipython",
    "version": 3
   },
   "file_extension": ".py",
   "mimetype": "text/x-python",
   "name": "python",
   "nbconvert_exporter": "python",
   "pygments_lexer": "ipython3",
   "version": "3.10.9"
  },
  "orig_nbformat": 4
 },
 "nbformat": 4,
 "nbformat_minor": 2
}
